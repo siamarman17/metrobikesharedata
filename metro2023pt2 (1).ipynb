{
  "nbformat": 4,
  "nbformat_minor": 0,
  "metadata": {
    "colab": {
      "provenance": []
    },
    "kernelspec": {
      "name": "python3",
      "display_name": "Python 3"
    },
    "language_info": {
      "name": "python"
    }
  },
  "cells": [
    {
      "cell_type": "code",
      "execution_count": null,
      "metadata": {
        "colab": {
          "base_uri": "https://localhost:8080/"
        },
        "id": "leJyIsW01iKB",
        "outputId": "102d9525-394c-4de2-db63-78896e3ec01f"
      },
      "outputs": [
        {
          "output_type": "stream",
          "name": "stdout",
          "text": [
            "Collecting azure-storage-blob\n",
            "  Downloading azure_storage_blob-12.20.0-py3-none-any.whl (392 kB)\n",
            "\u001b[2K     \u001b[90m━━━━━━━━━━━━━━━━━━━━━━━━━━━━━━━━━━━━━━━━\u001b[0m \u001b[32m392.2/392.2 kB\u001b[0m \u001b[31m5.3 MB/s\u001b[0m eta \u001b[36m0:00:00\u001b[0m\n",
            "\u001b[?25hCollecting azure-core>=1.28.0 (from azure-storage-blob)\n",
            "  Downloading azure_core-1.30.1-py3-none-any.whl (193 kB)\n",
            "\u001b[2K     \u001b[90m━━━━━━━━━━━━━━━━━━━━━━━━━━━━━━━━━━━━━━━━\u001b[0m \u001b[32m193.4/193.4 kB\u001b[0m \u001b[31m10.6 MB/s\u001b[0m eta \u001b[36m0:00:00\u001b[0m\n",
            "\u001b[?25hRequirement already satisfied: cryptography>=2.1.4 in /usr/local/lib/python3.10/dist-packages (from azure-storage-blob) (42.0.7)\n",
            "Requirement already satisfied: typing-extensions>=4.6.0 in /usr/local/lib/python3.10/dist-packages (from azure-storage-blob) (4.11.0)\n",
            "Collecting isodate>=0.6.1 (from azure-storage-blob)\n",
            "  Downloading isodate-0.6.1-py2.py3-none-any.whl (41 kB)\n",
            "\u001b[2K     \u001b[90m━━━━━━━━━━━━━━━━━━━━━━━━━━━━━━━━━━━━━━━━\u001b[0m \u001b[32m41.7/41.7 kB\u001b[0m \u001b[31m4.1 MB/s\u001b[0m eta \u001b[36m0:00:00\u001b[0m\n",
            "\u001b[?25hRequirement already satisfied: requests>=2.21.0 in /usr/local/lib/python3.10/dist-packages (from azure-core>=1.28.0->azure-storage-blob) (2.31.0)\n",
            "Requirement already satisfied: six>=1.11.0 in /usr/local/lib/python3.10/dist-packages (from azure-core>=1.28.0->azure-storage-blob) (1.16.0)\n",
            "Requirement already satisfied: cffi>=1.12 in /usr/local/lib/python3.10/dist-packages (from cryptography>=2.1.4->azure-storage-blob) (1.16.0)\n",
            "Requirement already satisfied: pycparser in /usr/local/lib/python3.10/dist-packages (from cffi>=1.12->cryptography>=2.1.4->azure-storage-blob) (2.22)\n",
            "Requirement already satisfied: charset-normalizer<4,>=2 in /usr/local/lib/python3.10/dist-packages (from requests>=2.21.0->azure-core>=1.28.0->azure-storage-blob) (3.3.2)\n",
            "Requirement already satisfied: idna<4,>=2.5 in /usr/local/lib/python3.10/dist-packages (from requests>=2.21.0->azure-core>=1.28.0->azure-storage-blob) (3.7)\n",
            "Requirement already satisfied: urllib3<3,>=1.21.1 in /usr/local/lib/python3.10/dist-packages (from requests>=2.21.0->azure-core>=1.28.0->azure-storage-blob) (2.0.7)\n",
            "Requirement already satisfied: certifi>=2017.4.17 in /usr/local/lib/python3.10/dist-packages (from requests>=2.21.0->azure-core>=1.28.0->azure-storage-blob) (2024.2.2)\n",
            "Installing collected packages: isodate, azure-core, azure-storage-blob\n",
            "Successfully installed azure-core-1.30.1 azure-storage-blob-12.20.0 isodate-0.6.1\n"
          ]
        }
      ],
      "source": [
        "!pip install azure-storage-blob"
      ]
    },
    {
      "cell_type": "code",
      "source": [
        "#install packages\n",
        "import pandas as pd\n",
        "import numpy as np\n",
        "import json\n",
        "import requests\n",
        "from io import StringIO\n",
        "from azure.storage.blob import BlobServiceClient, BlobClient, ContainerClient\n",
        "from math import ceil\n",
        "import datetime\n",
        "import calendar\n",
        "from sqlalchemy import create_engine"
      ],
      "metadata": {
        "id": "ArdSmvHi1wwB"
      },
      "execution_count": null,
      "outputs": []
    },
    {
      "cell_type": "code",
      "source": [
        "# Specify the path to your JSON configuration file\n",
        "config_file_path = 'config.json'\n",
        "\n",
        "# Load the JSON configuration file\n",
        "with open(config_file_path, 'r') as config_file:\n",
        "    config = json.load(config_file)\n",
        "\n",
        "# Access the connection string using the correct key\n",
        "try:\n",
        "    connection_string = config[\"connectionString\"]\n",
        "    print(\"Connection String:\", connection_string)\n",
        "except KeyError:\n",
        "    print(\"The key 'connectionString' does not exist in the configuration.\")\n",
        "    connection_string = None\n",
        "\n",
        "# Check if connection_string is not None before proceeding\n",
        "if connection_string:\n",
        "    # Set up connection string for Azure storage and container name\n",
        "    container_azure = 'metro2023data'\n",
        "\n",
        "    # Initialize the BlobServiceClient\n",
        "    blob_service_client = BlobServiceClient.from_connection_string(connection_string)\n",
        "\n",
        "    # Get the container client\n",
        "    container_client = blob_service_client.get_container_client(container_azure)\n",
        "\n",
        "    # Initialize an empty list to store DataFrames\n",
        "    metro_dataframes = []\n",
        "\n",
        "    # List all blobs in the specified container\n",
        "    blob_list = container_client.list_blobs()\n",
        "    for blob in blob_list:\n",
        "        print(blob.name)\n",
        "        blob_client = container_client.get_blob_client(blob=blob.name)\n",
        "        blob_data = blob_client.download_blob()\n",
        "        blob_content = blob_data.readall().decode('utf-8')\n",
        "        df = pd.read_csv(StringIO(blob_content))\n",
        "        # Display the head of the DataFrame\n",
        "        print(df.head())\n",
        "        # Append the DataFrame to the list\n",
        "        metro_dataframes.append(df)\n",
        "\n",
        "    # Now you have a list of DataFrames, each corresponding to a blob\n",
        "    # Example: Access the first DataFrame\n",
        "    if metro_dataframes:\n",
        "        first_metro_df = metro_dataframes[0]\n",
        "        print(\"First DataFrame from the list:\")\n",
        "        print(first_metro_df.head())\n",
        "else:\n",
        "    print(\"Failed to retrieve connection string from configuration.\")\n"
      ],
      "metadata": {
        "colab": {
          "base_uri": "https://localhost:8080/"
        },
        "id": "J0WVFOqZ1-xZ",
        "outputId": "3cf33e62-a02e-4006-d652-963208f92b64"
      },
      "execution_count": 13,
      "outputs": [
        {
          "output_type": "stream",
          "name": "stdout",
          "text": [
            "Connection String: DefaultEndpointsProtocol=https;AccountName=metro2023;AccountKey=idxS7hOlQ/5Ks3LVuMVW5wnypDFc28oB7qu8CJ+EKG5V9R/126GSkcH98dQeXdbdGLIFS25cYH/G+AStmajdcw==;EndpointSuffix=core.windows.net\n",
            "metro2023data.csv\n",
            "     trip_id  duration     start_time       end_time  start_station  \\\n",
            "0  276590229         1  7/1/2023 0:01  7/1/2023 0:02           4215   \n",
            "1  276590710        16  7/1/2023 0:02  7/1/2023 0:18           4494   \n",
            "2  276613156       148  7/1/2023 0:02  7/1/2023 2:30           4215   \n",
            "3  276590579         3  7/1/2023 0:03  7/1/2023 0:06           4215   \n",
            "4  276613157       146  7/1/2023 0:04  7/1/2023 2:30           4215   \n",
            "\n",
            "   start_lat   start_lon  end_station    end_lat     end_lon bike_id  \\\n",
            "0  34.014309 -118.491341         4215  34.014309 -118.491341   30096   \n",
            "1  34.075981 -118.256012         3031  34.044701 -118.252441   24279   \n",
            "2  34.014309 -118.491341         4215  34.014309 -118.491341   30240   \n",
            "3  34.014309 -118.491341         4215  34.014309 -118.491341   25395   \n",
            "4  34.014309 -118.491341         4215  34.014309 -118.491341   30084   \n",
            "\n",
            "   plan_duration trip_route_category passholder_type bike_type  \n",
            "0              1          Round Trip         Walk-up  electric  \n",
            "1             30             One Way    Monthly Pass  electric  \n",
            "2              1          Round Trip         Walk-up  electric  \n",
            "3              1          Round Trip         Walk-up  electric  \n",
            "4              1          Round Trip         Walk-up  electric  \n",
            "First DataFrame from the list:\n",
            "     trip_id  duration     start_time       end_time  start_station  \\\n",
            "0  276590229         1  7/1/2023 0:01  7/1/2023 0:02           4215   \n",
            "1  276590710        16  7/1/2023 0:02  7/1/2023 0:18           4494   \n",
            "2  276613156       148  7/1/2023 0:02  7/1/2023 2:30           4215   \n",
            "3  276590579         3  7/1/2023 0:03  7/1/2023 0:06           4215   \n",
            "4  276613157       146  7/1/2023 0:04  7/1/2023 2:30           4215   \n",
            "\n",
            "   start_lat   start_lon  end_station    end_lat     end_lon bike_id  \\\n",
            "0  34.014309 -118.491341         4215  34.014309 -118.491341   30096   \n",
            "1  34.075981 -118.256012         3031  34.044701 -118.252441   24279   \n",
            "2  34.014309 -118.491341         4215  34.014309 -118.491341   30240   \n",
            "3  34.014309 -118.491341         4215  34.014309 -118.491341   25395   \n",
            "4  34.014309 -118.491341         4215  34.014309 -118.491341   30084   \n",
            "\n",
            "   plan_duration trip_route_category passholder_type bike_type  \n",
            "0              1          Round Trip         Walk-up  electric  \n",
            "1             30             One Way    Monthly Pass  electric  \n",
            "2              1          Round Trip         Walk-up  electric  \n",
            "3              1          Round Trip         Walk-up  electric  \n",
            "4              1          Round Trip         Walk-up  electric  \n"
          ]
        },
        {
          "output_type": "stream",
          "name": "stderr",
          "text": [
            "<ipython-input-13-e418c13dc7b1>:37: DtypeWarning: Columns (10) have mixed types. Specify dtype option on import or set low_memory=False.\n",
            "  df = pd.read_csv(StringIO(blob_content))\n"
          ]
        }
      ]
    },
    {
      "cell_type": "code",
      "source": [
        "# Extracting dim_time dimension\n",
        "dim_time = first_metro_df[['start_time', 'end_time']]\n",
        "\n",
        "# Renaming columns\n",
        "dim_time.columns = ['start_time', 'end_time']\n",
        "\n",
        "# Adding time_id column\n",
        "dim_time['time_id'] = dim_time.index + 1\n",
        "\n",
        "# Reorder columns\n",
        "dim_time = dim_time[['time_id', 'start_time', 'end_time']]\n",
        "\n",
        "dim_time.head()\n",
        "\n",
        "# Save to Desktop\n",
        "from google.colab import files\n",
        "files.download('dim_time.csv')"
      ],
      "metadata": {
        "colab": {
          "base_uri": "https://localhost:8080/",
          "height": 121
        },
        "id": "dKyoMaKv-WoK",
        "outputId": "5978dd1d-e24e-4d75-b973-fa366a9b52bf"
      },
      "execution_count": 64,
      "outputs": [
        {
          "output_type": "stream",
          "name": "stderr",
          "text": [
            "<ipython-input-64-7138ce51948a>:8: SettingWithCopyWarning: \n",
            "A value is trying to be set on a copy of a slice from a DataFrame.\n",
            "Try using .loc[row_indexer,col_indexer] = value instead\n",
            "\n",
            "See the caveats in the documentation: https://pandas.pydata.org/pandas-docs/stable/user_guide/indexing.html#returning-a-view-versus-a-copy\n",
            "  dim_time['time_id'] = dim_time.index + 1\n"
          ]
        },
        {
          "output_type": "display_data",
          "data": {
            "text/plain": [
              "<IPython.core.display.Javascript object>"
            ],
            "application/javascript": [
              "\n",
              "    async function download(id, filename, size) {\n",
              "      if (!google.colab.kernel.accessAllowed) {\n",
              "        return;\n",
              "      }\n",
              "      const div = document.createElement('div');\n",
              "      const label = document.createElement('label');\n",
              "      label.textContent = `Downloading \"${filename}\": `;\n",
              "      div.appendChild(label);\n",
              "      const progress = document.createElement('progress');\n",
              "      progress.max = size;\n",
              "      div.appendChild(progress);\n",
              "      document.body.appendChild(div);\n",
              "\n",
              "      const buffers = [];\n",
              "      let downloaded = 0;\n",
              "\n",
              "      const channel = await google.colab.kernel.comms.open(id);\n",
              "      // Send a message to notify the kernel that we're ready.\n",
              "      channel.send({})\n",
              "\n",
              "      for await (const message of channel.messages) {\n",
              "        // Send a message to notify the kernel that we're ready.\n",
              "        channel.send({})\n",
              "        if (message.buffers) {\n",
              "          for (const buffer of message.buffers) {\n",
              "            buffers.push(buffer);\n",
              "            downloaded += buffer.byteLength;\n",
              "            progress.value = downloaded;\n",
              "          }\n",
              "        }\n",
              "      }\n",
              "      const blob = new Blob(buffers, {type: 'application/binary'});\n",
              "      const a = document.createElement('a');\n",
              "      a.href = window.URL.createObjectURL(blob);\n",
              "      a.download = filename;\n",
              "      div.appendChild(a);\n",
              "      a.click();\n",
              "      div.remove();\n",
              "    }\n",
              "  "
            ]
          },
          "metadata": {}
        },
        {
          "output_type": "display_data",
          "data": {
            "text/plain": [
              "<IPython.core.display.Javascript object>"
            ],
            "application/javascript": [
              "download(\"download_a414a9f7-7e31-446a-906e-d79d6465ec6a\", \"dim_time.csv\", 4876996)"
            ]
          },
          "metadata": {}
        }
      ]
    },
    {
      "cell_type": "code",
      "source": [],
      "metadata": {
        "id": "bV_S5x4gPTHo"
      },
      "execution_count": null,
      "outputs": []
    },
    {
      "cell_type": "code",
      "source": [
        "# Extracting dim_passholder dimension\n",
        "dim_passholder = df[['passholder_type']].copy().drop_duplicates().reset_index(drop=True)\n",
        "\n",
        "# Adding passholder_id column\n",
        "dim_passholder['passholder_id'] = dim_passholder.index + 1\n",
        "\n",
        "# Reorder columns\n",
        "dim_passholder = dim_passholder[['passholder_id', 'passholder_type']]\n",
        "\n",
        "dim_passholder.head()\n",
        "\n",
        "# Save to Desktop\n",
        "dim_passholder.to_csv('dim_passholder.csv', index=False)\n",
        "from google.colab import files\n",
        "files.download('dim_passholder.csv')"
      ],
      "metadata": {
        "colab": {
          "base_uri": "https://localhost:8080/",
          "height": 17
        },
        "id": "pWpYD2my_A6W",
        "outputId": "f9060d0f-9f10-41f1-a335-6cd33d4bc687"
      },
      "execution_count": 67,
      "outputs": [
        {
          "output_type": "display_data",
          "data": {
            "text/plain": [
              "<IPython.core.display.Javascript object>"
            ],
            "application/javascript": [
              "\n",
              "    async function download(id, filename, size) {\n",
              "      if (!google.colab.kernel.accessAllowed) {\n",
              "        return;\n",
              "      }\n",
              "      const div = document.createElement('div');\n",
              "      const label = document.createElement('label');\n",
              "      label.textContent = `Downloading \"${filename}\": `;\n",
              "      div.appendChild(label);\n",
              "      const progress = document.createElement('progress');\n",
              "      progress.max = size;\n",
              "      div.appendChild(progress);\n",
              "      document.body.appendChild(div);\n",
              "\n",
              "      const buffers = [];\n",
              "      let downloaded = 0;\n",
              "\n",
              "      const channel = await google.colab.kernel.comms.open(id);\n",
              "      // Send a message to notify the kernel that we're ready.\n",
              "      channel.send({})\n",
              "\n",
              "      for await (const message of channel.messages) {\n",
              "        // Send a message to notify the kernel that we're ready.\n",
              "        channel.send({})\n",
              "        if (message.buffers) {\n",
              "          for (const buffer of message.buffers) {\n",
              "            buffers.push(buffer);\n",
              "            downloaded += buffer.byteLength;\n",
              "            progress.value = downloaded;\n",
              "          }\n",
              "        }\n",
              "      }\n",
              "      const blob = new Blob(buffers, {type: 'application/binary'});\n",
              "      const a = document.createElement('a');\n",
              "      a.href = window.URL.createObjectURL(blob);\n",
              "      a.download = filename;\n",
              "      div.appendChild(a);\n",
              "      a.click();\n",
              "      div.remove();\n",
              "    }\n",
              "  "
            ]
          },
          "metadata": {}
        },
        {
          "output_type": "display_data",
          "data": {
            "text/plain": [
              "<IPython.core.display.Javascript object>"
            ],
            "application/javascript": [
              "download(\"download_8bc3f6b5-8a3d-4095-8e35-c72e271cf224\", \"dim_passholder.csv\", 84)"
            ]
          },
          "metadata": {}
        }
      ]
    },
    {
      "cell_type": "code",
      "source": [
        "# Extracting dim_station dimension\n",
        "start_stations = df[['start_station', 'start_lat', 'start_lon']].rename(columns={'start_station': 'station_id', 'start_lat': 'latitude', 'start_lon': 'longitude'})\n",
        "end_stations = df[['end_station', 'end_lat', 'end_lon']].rename(columns={'end_station': 'station_id', 'end_lat': 'latitude', 'end_lon': 'longitude'})\n",
        "\n",
        "# Concatenate and remove duplicates\n",
        "dim_station = pd.concat([start_stations, end_stations]).drop_duplicates().reset_index(drop=True)\n",
        "\n",
        "# Adding stationname column as a placeholder\n",
        "dim_station['stationname'] = \"Station \" + dim_station['station_id'].astype(str)\n",
        "dim_station['station_id'] = dim_station['stationname']\n",
        "\n",
        "# Reorder columns\n",
        "dim_station = dim_station[['station_id', 'latitude', 'longitude']]\n",
        "\n",
        "dim_station.head()\n",
        "\n",
        "# Save to Desktop\n",
        "dim_passholder.to_csv('dim_station.csv', index=False)\n",
        "from google.colab import files\n",
        "files.download('dim_station.csv')"
      ],
      "metadata": {
        "colab": {
          "base_uri": "https://localhost:8080/",
          "height": 17
        },
        "id": "bRvdGJZEA5kx",
        "outputId": "22f7ee73-63f4-4bc1-b767-648523cdd8aa"
      },
      "execution_count": 69,
      "outputs": [
        {
          "output_type": "display_data",
          "data": {
            "text/plain": [
              "<IPython.core.display.Javascript object>"
            ],
            "application/javascript": [
              "\n",
              "    async function download(id, filename, size) {\n",
              "      if (!google.colab.kernel.accessAllowed) {\n",
              "        return;\n",
              "      }\n",
              "      const div = document.createElement('div');\n",
              "      const label = document.createElement('label');\n",
              "      label.textContent = `Downloading \"${filename}\": `;\n",
              "      div.appendChild(label);\n",
              "      const progress = document.createElement('progress');\n",
              "      progress.max = size;\n",
              "      div.appendChild(progress);\n",
              "      document.body.appendChild(div);\n",
              "\n",
              "      const buffers = [];\n",
              "      let downloaded = 0;\n",
              "\n",
              "      const channel = await google.colab.kernel.comms.open(id);\n",
              "      // Send a message to notify the kernel that we're ready.\n",
              "      channel.send({})\n",
              "\n",
              "      for await (const message of channel.messages) {\n",
              "        // Send a message to notify the kernel that we're ready.\n",
              "        channel.send({})\n",
              "        if (message.buffers) {\n",
              "          for (const buffer of message.buffers) {\n",
              "            buffers.push(buffer);\n",
              "            downloaded += buffer.byteLength;\n",
              "            progress.value = downloaded;\n",
              "          }\n",
              "        }\n",
              "      }\n",
              "      const blob = new Blob(buffers, {type: 'application/binary'});\n",
              "      const a = document.createElement('a');\n",
              "      a.href = window.URL.createObjectURL(blob);\n",
              "      a.download = filename;\n",
              "      div.appendChild(a);\n",
              "      a.click();\n",
              "      div.remove();\n",
              "    }\n",
              "  "
            ]
          },
          "metadata": {}
        },
        {
          "output_type": "display_data",
          "data": {
            "text/plain": [
              "<IPython.core.display.Javascript object>"
            ],
            "application/javascript": [
              "download(\"download_ec936522-8e9a-44e9-8c5e-f526a8e39eea\", \"dim_station.csv\", 84)"
            ]
          },
          "metadata": {}
        }
      ]
    },
    {
      "cell_type": "code",
      "source": [
        "# Extract dates\n",
        "start_dates = pd.to_datetime(df['start_time']).dt.date\n",
        "end_dates = pd.to_datetime(df['end_time']).dt.date\n",
        "\n",
        "# Concatenate and remove duplicates, convert to datetime\n",
        "all_dates = pd.to_datetime(pd.concat([start_dates, end_dates]).drop_duplicates().reset_index(drop=True))\n",
        "\n",
        "# Create dim_date DataFrame\n",
        "dim_date = pd.DataFrame({\n",
        "    'date_id': all_dates.index + 1,\n",
        "    'date': all_dates,\n",
        "    'year': all_dates.dt.year,\n",
        "    'quarter': all_dates.dt.quarter,\n",
        "    'month': all_dates.dt.month,\n",
        "    'day': all_dates.dt.day,\n",
        "    'weekday': all_dates.dt.weekday + 1  # Monday=1, Sunday=7\n",
        "})\n",
        "\n",
        "dim_date.head()\n",
        "\n",
        "# Save to Desktop\n",
        "dim_passholder.to_csv('dim_date.csv', index=False)\n",
        "from google.colab import files\n",
        "files.download('dim_date.csv')"
      ],
      "metadata": {
        "colab": {
          "base_uri": "https://localhost:8080/",
          "height": 17
        },
        "id": "R7rfqN_IBPuW",
        "outputId": "d4cc0b34-5754-459e-f511-5c56b0896e98"
      },
      "execution_count": 70,
      "outputs": [
        {
          "output_type": "display_data",
          "data": {
            "text/plain": [
              "<IPython.core.display.Javascript object>"
            ],
            "application/javascript": [
              "\n",
              "    async function download(id, filename, size) {\n",
              "      if (!google.colab.kernel.accessAllowed) {\n",
              "        return;\n",
              "      }\n",
              "      const div = document.createElement('div');\n",
              "      const label = document.createElement('label');\n",
              "      label.textContent = `Downloading \"${filename}\": `;\n",
              "      div.appendChild(label);\n",
              "      const progress = document.createElement('progress');\n",
              "      progress.max = size;\n",
              "      div.appendChild(progress);\n",
              "      document.body.appendChild(div);\n",
              "\n",
              "      const buffers = [];\n",
              "      let downloaded = 0;\n",
              "\n",
              "      const channel = await google.colab.kernel.comms.open(id);\n",
              "      // Send a message to notify the kernel that we're ready.\n",
              "      channel.send({})\n",
              "\n",
              "      for await (const message of channel.messages) {\n",
              "        // Send a message to notify the kernel that we're ready.\n",
              "        channel.send({})\n",
              "        if (message.buffers) {\n",
              "          for (const buffer of message.buffers) {\n",
              "            buffers.push(buffer);\n",
              "            downloaded += buffer.byteLength;\n",
              "            progress.value = downloaded;\n",
              "          }\n",
              "        }\n",
              "      }\n",
              "      const blob = new Blob(buffers, {type: 'application/binary'});\n",
              "      const a = document.createElement('a');\n",
              "      a.href = window.URL.createObjectURL(blob);\n",
              "      a.download = filename;\n",
              "      div.appendChild(a);\n",
              "      a.click();\n",
              "      div.remove();\n",
              "    }\n",
              "  "
            ]
          },
          "metadata": {}
        },
        {
          "output_type": "display_data",
          "data": {
            "text/plain": [
              "<IPython.core.display.Javascript object>"
            ],
            "application/javascript": [
              "download(\"download_77afd8f7-7387-4591-b707-e507c172ff95\", \"dim_date.csv\", 84)"
            ]
          },
          "metadata": {}
        }
      ]
    },
    {
      "cell_type": "code",
      "source": [
        "# Extracting fact_bike_trips\n",
        "fact_bike_trips = df[['trip_id', 'duration', 'start_station', 'bike_id', 'passholder_type', 'trip_route_category', 'bike_type']].copy()\n",
        "\n",
        "# Map passholder_type to passholder_id\n",
        "passholder_mapping = dim_passholder.set_index('passholder_type')['passholder_id'].to_dict()\n",
        "fact_bike_trips['passholder_id'] = fact_bike_trips['passholder_type'].map(passholder_mapping)\n",
        "\n",
        "# Convert start_time to datetime and extract time_id\n",
        "fact_bike_trips['start_time'] = pd.to_datetime(df['start_time'])\n",
        "fact_bike_trips['time_id'] = fact_bike_trips.index + 1\n",
        "\n",
        "# Map start_station to station_id\n",
        "fact_bike_trips = fact_bike_trips.rename(columns={'start_station': 'station_id'})\n",
        "\n",
        "# Add fact_id and data_id columns\n",
        "fact_bike_trips['fact_id'] = fact_bike_trips.index + 1\n",
        "fact_bike_trips['data_id'] = fact_bike_trips.index + 1  # Assuming data_id is just a unique identifier\n",
        "\n",
        "# Rename columns\n",
        "fact_bike_trips = fact_bike_trips.rename(columns={\n",
        "    'duration': 'trip_duration',\n",
        "    'trip_route_category': 'trip_route_category',\n",
        "    'bike_type': 'bike_type'\n",
        "})\n",
        "\n",
        "# Reorder columns to match fact table structure\n",
        "fact_bike_trips = fact_bike_trips[['fact_id', 'trip_id', 'time_id', 'station_id', 'bike_id', 'passholder_id', 'trip_duration', 'trip_route_category', 'bike_type', 'data_id']]\n",
        "\n",
        "\n",
        "fact_bike_trips.head()\n",
        "\n",
        "# Save to Desktop\n",
        "dim_passholder.to_csv('fact_bike_trips.csv', index=False)\n",
        "from google.colab import files\n",
        "files.download('fact_bike_trips.csv')"
      ],
      "metadata": {
        "colab": {
          "base_uri": "https://localhost:8080/",
          "height": 17
        },
        "id": "eU3OSPWPCxPO",
        "outputId": "5dfeb291-2328-464d-cb30-a4dffdcf68d4"
      },
      "execution_count": 71,
      "outputs": [
        {
          "output_type": "display_data",
          "data": {
            "text/plain": [
              "<IPython.core.display.Javascript object>"
            ],
            "application/javascript": [
              "\n",
              "    async function download(id, filename, size) {\n",
              "      if (!google.colab.kernel.accessAllowed) {\n",
              "        return;\n",
              "      }\n",
              "      const div = document.createElement('div');\n",
              "      const label = document.createElement('label');\n",
              "      label.textContent = `Downloading \"${filename}\": `;\n",
              "      div.appendChild(label);\n",
              "      const progress = document.createElement('progress');\n",
              "      progress.max = size;\n",
              "      div.appendChild(progress);\n",
              "      document.body.appendChild(div);\n",
              "\n",
              "      const buffers = [];\n",
              "      let downloaded = 0;\n",
              "\n",
              "      const channel = await google.colab.kernel.comms.open(id);\n",
              "      // Send a message to notify the kernel that we're ready.\n",
              "      channel.send({})\n",
              "\n",
              "      for await (const message of channel.messages) {\n",
              "        // Send a message to notify the kernel that we're ready.\n",
              "        channel.send({})\n",
              "        if (message.buffers) {\n",
              "          for (const buffer of message.buffers) {\n",
              "            buffers.push(buffer);\n",
              "            downloaded += buffer.byteLength;\n",
              "            progress.value = downloaded;\n",
              "          }\n",
              "        }\n",
              "      }\n",
              "      const blob = new Blob(buffers, {type: 'application/binary'});\n",
              "      const a = document.createElement('a');\n",
              "      a.href = window.URL.createObjectURL(blob);\n",
              "      a.download = filename;\n",
              "      div.appendChild(a);\n",
              "      a.click();\n",
              "      div.remove();\n",
              "    }\n",
              "  "
            ]
          },
          "metadata": {}
        },
        {
          "output_type": "display_data",
          "data": {
            "text/plain": [
              "<IPython.core.display.Javascript object>"
            ],
            "application/javascript": [
              "download(\"download_0ef6e0fd-67ad-4d96-9c2c-3b408e51b705\", \"fact_bike_trips.csv\", 84)"
            ]
          },
          "metadata": {}
        }
      ]
    }
  ]
}